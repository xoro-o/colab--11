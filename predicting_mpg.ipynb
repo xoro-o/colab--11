{
  "nbformat": 4,
  "nbformat_minor": 0,
  "metadata": {
    "colab": {
      "name": "predicting mpg",
      "provenance": [],
      "authorship_tag": "ABX9TyMC6BHAK3ZKjD45uRXIPxmO",
      "include_colab_link": true
    },
    "kernelspec": {
      "name": "python3",
      "display_name": "Python 3"
    },
    "language_info": {
      "name": "python"
    }
  },
  "cells": [
    {
      "cell_type": "markdown",
      "metadata": {
        "id": "view-in-github",
        "colab_type": "text"
      },
      "source": [
        "<a href=\"https://colab.research.google.com/github/xoro-o/colab--11/blob/main/predicting_mpg.ipynb\" target=\"_parent\"><img src=\"https://colab.research.google.com/assets/colab-badge.svg\" alt=\"Open In Colab\"/></a>"
      ]
    },
    {
      "cell_type": "code",
      "execution_count": 1,
      "metadata": {
        "id": "I3UMzRl6MT5l"
      },
      "outputs": [],
      "source": [
        "import pandas as pd\n",
        "url = 'http://archive.ics.uci.edu/ml/machine-learning-databases/auto-mpg/auto-mpg.data'"
      ]
    },
    {
      "cell_type": "code",
      "source": [
        "column_names = ['MPG','Cylinders','Displacement','Horsepower','Weight','Accelaration','Model Year','Origin']\n",
        "df = pd.read_csv(url,names=column_names,na_values = \"?\",comment='\\t',sep =\" \",skipinitialspace=True)\n",
        "df.shape"
      ],
      "metadata": {
        "colab": {
          "base_uri": "https://localhost:8080/"
        },
        "id": "SFt50VEaMmqq",
        "outputId": "53a24b5c-d1a8-480f-86f9-62afaa966b46"
      },
      "execution_count": 3,
      "outputs": [
        {
          "output_type": "execute_result",
          "data": {
            "text/plain": [
              "(398, 8)"
            ]
          },
          "metadata": {},
          "execution_count": 3
        }
      ]
    },
    {
      "cell_type": "code",
      "source": [
        "# droppingthe na values rows\n",
        "\n",
        "df = df.dropna()\n",
        "df = df.reset_index(drop = True)#reset the index after dropping rows\n",
        "df.shape # was to check any dropped rows"
      ],
      "metadata": {
        "colab": {
          "base_uri": "https://localhost:8080/"
        },
        "id": "DJvzjKT5NSpn",
        "outputId": "41fd7421-0c40-4e45-ccc4-b9ad2e56a6f0"
      },
      "execution_count": 6,
      "outputs": [
        {
          "output_type": "execute_result",
          "data": {
            "text/plain": [
              "(392, 8)"
            ]
          },
          "metadata": {},
          "execution_count": 6
        }
      ]
    },
    {
      "cell_type": "code",
      "source": [
        "## test train splits\n",
        "import sklearn\n",
        "from sklearn.model_selection import train_test_split  \n",
        "df_train,df_test = train_test_split(df,train_size = 0.8,random_state = 1)"
      ],
      "metadata": {
        "id": "Br38Rv0BNf2n"
      },
      "execution_count": 8,
      "outputs": []
    },
    {
      "cell_type": "code",
      "source": [
        "train_stats = df_train.describe().transpose()\n",
        "df_train.describe()"
      ],
      "metadata": {
        "colab": {
          "base_uri": "https://localhost:8080/",
          "height": 300
        },
        "id": "N_PO3tA6OHvH",
        "outputId": "0ece5447-d64f-483a-f821-aa93422534b6"
      },
      "execution_count": 16,
      "outputs": [
        {
          "output_type": "execute_result",
          "data": {
            "text/plain": [
              "              MPG   Cylinders  Displacement  Horsepower       Weight  \\\n",
              "count  313.000000  313.000000    313.000000  313.000000   313.000000   \n",
              "mean    23.404153    5.402556    189.512780  102.929712  2961.198083   \n",
              "std      7.666909    1.701506    102.675646   37.919046   848.602146   \n",
              "min      9.000000    3.000000     68.000000   46.000000  1613.000000   \n",
              "25%     17.500000    4.000000    104.000000   75.000000  2219.000000   \n",
              "50%     23.000000    4.000000    140.000000   92.000000  2755.000000   \n",
              "75%     29.000000    8.000000    260.000000  120.000000  3574.000000   \n",
              "max     46.600000    8.000000    455.000000  230.000000  5140.000000   \n",
              "\n",
              "       Accelaration  Model Year      Origin  \n",
              "count    313.000000  313.000000  313.000000  \n",
              "mean      15.704473   75.929712    1.591054  \n",
              "std        2.725399    3.675305    0.807923  \n",
              "min        8.500000   70.000000    1.000000  \n",
              "25%       14.000000   73.000000    1.000000  \n",
              "50%       15.500000   76.000000    1.000000  \n",
              "75%       17.300000   79.000000    2.000000  \n",
              "max       24.800000   82.000000    3.000000  "
            ],
            "text/html": [
              "\n",
              "  <div id=\"df-71d55fc7-663d-448d-bbc2-1d8593369f48\">\n",
              "    <div class=\"colab-df-container\">\n",
              "      <div>\n",
              "<style scoped>\n",
              "    .dataframe tbody tr th:only-of-type {\n",
              "        vertical-align: middle;\n",
              "    }\n",
              "\n",
              "    .dataframe tbody tr th {\n",
              "        vertical-align: top;\n",
              "    }\n",
              "\n",
              "    .dataframe thead th {\n",
              "        text-align: right;\n",
              "    }\n",
              "</style>\n",
              "<table border=\"1\" class=\"dataframe\">\n",
              "  <thead>\n",
              "    <tr style=\"text-align: right;\">\n",
              "      <th></th>\n",
              "      <th>MPG</th>\n",
              "      <th>Cylinders</th>\n",
              "      <th>Displacement</th>\n",
              "      <th>Horsepower</th>\n",
              "      <th>Weight</th>\n",
              "      <th>Accelaration</th>\n",
              "      <th>Model Year</th>\n",
              "      <th>Origin</th>\n",
              "    </tr>\n",
              "  </thead>\n",
              "  <tbody>\n",
              "    <tr>\n",
              "      <th>count</th>\n",
              "      <td>313.000000</td>\n",
              "      <td>313.000000</td>\n",
              "      <td>313.000000</td>\n",
              "      <td>313.000000</td>\n",
              "      <td>313.000000</td>\n",
              "      <td>313.000000</td>\n",
              "      <td>313.000000</td>\n",
              "      <td>313.000000</td>\n",
              "    </tr>\n",
              "    <tr>\n",
              "      <th>mean</th>\n",
              "      <td>23.404153</td>\n",
              "      <td>5.402556</td>\n",
              "      <td>189.512780</td>\n",
              "      <td>102.929712</td>\n",
              "      <td>2961.198083</td>\n",
              "      <td>15.704473</td>\n",
              "      <td>75.929712</td>\n",
              "      <td>1.591054</td>\n",
              "    </tr>\n",
              "    <tr>\n",
              "      <th>std</th>\n",
              "      <td>7.666909</td>\n",
              "      <td>1.701506</td>\n",
              "      <td>102.675646</td>\n",
              "      <td>37.919046</td>\n",
              "      <td>848.602146</td>\n",
              "      <td>2.725399</td>\n",
              "      <td>3.675305</td>\n",
              "      <td>0.807923</td>\n",
              "    </tr>\n",
              "    <tr>\n",
              "      <th>min</th>\n",
              "      <td>9.000000</td>\n",
              "      <td>3.000000</td>\n",
              "      <td>68.000000</td>\n",
              "      <td>46.000000</td>\n",
              "      <td>1613.000000</td>\n",
              "      <td>8.500000</td>\n",
              "      <td>70.000000</td>\n",
              "      <td>1.000000</td>\n",
              "    </tr>\n",
              "    <tr>\n",
              "      <th>25%</th>\n",
              "      <td>17.500000</td>\n",
              "      <td>4.000000</td>\n",
              "      <td>104.000000</td>\n",
              "      <td>75.000000</td>\n",
              "      <td>2219.000000</td>\n",
              "      <td>14.000000</td>\n",
              "      <td>73.000000</td>\n",
              "      <td>1.000000</td>\n",
              "    </tr>\n",
              "    <tr>\n",
              "      <th>50%</th>\n",
              "      <td>23.000000</td>\n",
              "      <td>4.000000</td>\n",
              "      <td>140.000000</td>\n",
              "      <td>92.000000</td>\n",
              "      <td>2755.000000</td>\n",
              "      <td>15.500000</td>\n",
              "      <td>76.000000</td>\n",
              "      <td>1.000000</td>\n",
              "    </tr>\n",
              "    <tr>\n",
              "      <th>75%</th>\n",
              "      <td>29.000000</td>\n",
              "      <td>8.000000</td>\n",
              "      <td>260.000000</td>\n",
              "      <td>120.000000</td>\n",
              "      <td>3574.000000</td>\n",
              "      <td>17.300000</td>\n",
              "      <td>79.000000</td>\n",
              "      <td>2.000000</td>\n",
              "    </tr>\n",
              "    <tr>\n",
              "      <th>max</th>\n",
              "      <td>46.600000</td>\n",
              "      <td>8.000000</td>\n",
              "      <td>455.000000</td>\n",
              "      <td>230.000000</td>\n",
              "      <td>5140.000000</td>\n",
              "      <td>24.800000</td>\n",
              "      <td>82.000000</td>\n",
              "      <td>3.000000</td>\n",
              "    </tr>\n",
              "  </tbody>\n",
              "</table>\n",
              "</div>\n",
              "      <button class=\"colab-df-convert\" onclick=\"convertToInteractive('df-71d55fc7-663d-448d-bbc2-1d8593369f48')\"\n",
              "              title=\"Convert this dataframe to an interactive table.\"\n",
              "              style=\"display:none;\">\n",
              "        \n",
              "  <svg xmlns=\"http://www.w3.org/2000/svg\" height=\"24px\"viewBox=\"0 0 24 24\"\n",
              "       width=\"24px\">\n",
              "    <path d=\"M0 0h24v24H0V0z\" fill=\"none\"/>\n",
              "    <path d=\"M18.56 5.44l.94 2.06.94-2.06 2.06-.94-2.06-.94-.94-2.06-.94 2.06-2.06.94zm-11 1L8.5 8.5l.94-2.06 2.06-.94-2.06-.94L8.5 2.5l-.94 2.06-2.06.94zm10 10l.94 2.06.94-2.06 2.06-.94-2.06-.94-.94-2.06-.94 2.06-2.06.94z\"/><path d=\"M17.41 7.96l-1.37-1.37c-.4-.4-.92-.59-1.43-.59-.52 0-1.04.2-1.43.59L10.3 9.45l-7.72 7.72c-.78.78-.78 2.05 0 2.83L4 21.41c.39.39.9.59 1.41.59.51 0 1.02-.2 1.41-.59l7.78-7.78 2.81-2.81c.8-.78.8-2.07 0-2.86zM5.41 20L4 18.59l7.72-7.72 1.47 1.35L5.41 20z\"/>\n",
              "  </svg>\n",
              "      </button>\n",
              "      \n",
              "  <style>\n",
              "    .colab-df-container {\n",
              "      display:flex;\n",
              "      flex-wrap:wrap;\n",
              "      gap: 12px;\n",
              "    }\n",
              "\n",
              "    .colab-df-convert {\n",
              "      background-color: #E8F0FE;\n",
              "      border: none;\n",
              "      border-radius: 50%;\n",
              "      cursor: pointer;\n",
              "      display: none;\n",
              "      fill: #1967D2;\n",
              "      height: 32px;\n",
              "      padding: 0 0 0 0;\n",
              "      width: 32px;\n",
              "    }\n",
              "\n",
              "    .colab-df-convert:hover {\n",
              "      background-color: #E2EBFA;\n",
              "      box-shadow: 0px 1px 2px rgba(60, 64, 67, 0.3), 0px 1px 3px 1px rgba(60, 64, 67, 0.15);\n",
              "      fill: #174EA6;\n",
              "    }\n",
              "\n",
              "    [theme=dark] .colab-df-convert {\n",
              "      background-color: #3B4455;\n",
              "      fill: #D2E3FC;\n",
              "    }\n",
              "\n",
              "    [theme=dark] .colab-df-convert:hover {\n",
              "      background-color: #434B5C;\n",
              "      box-shadow: 0px 1px 3px 1px rgba(0, 0, 0, 0.15);\n",
              "      filter: drop-shadow(0px 1px 2px rgba(0, 0, 0, 0.3));\n",
              "      fill: #FFFFFF;\n",
              "    }\n",
              "  </style>\n",
              "\n",
              "      <script>\n",
              "        const buttonEl =\n",
              "          document.querySelector('#df-71d55fc7-663d-448d-bbc2-1d8593369f48 button.colab-df-convert');\n",
              "        buttonEl.style.display =\n",
              "          google.colab.kernel.accessAllowed ? 'block' : 'none';\n",
              "\n",
              "        async function convertToInteractive(key) {\n",
              "          const element = document.querySelector('#df-71d55fc7-663d-448d-bbc2-1d8593369f48');\n",
              "          const dataTable =\n",
              "            await google.colab.kernel.invokeFunction('convertToInteractive',\n",
              "                                                     [key], {});\n",
              "          if (!dataTable) return;\n",
              "\n",
              "          const docLinkHtml = 'Like what you see? Visit the ' +\n",
              "            '<a target=\"_blank\" href=https://colab.research.google.com/notebooks/data_table.ipynb>data table notebook</a>'\n",
              "            + ' to learn more about interactive tables.';\n",
              "          element.innerHTML = '';\n",
              "          dataTable['output_type'] = 'display_data';\n",
              "          await google.colab.output.renderOutput(dataTable, element);\n",
              "          const docLink = document.createElement('div');\n",
              "          docLink.innerHTML = docLinkHtml;\n",
              "          element.appendChild(docLink);\n",
              "        }\n",
              "      </script>\n",
              "    </div>\n",
              "  </div>\n",
              "  "
            ]
          },
          "metadata": {},
          "execution_count": 16
        }
      ]
    },
    {
      "cell_type": "code",
      "source": [
        "numeric_cnames = ['Cylinders','Displacement','Horsepower','Weight','Accelaration']\n",
        "df_train_norm,df_test_norm = df_train.copy(),df_test.copy()"
      ],
      "metadata": {
        "id": "tbEIzlzIP71Z"
      },
      "execution_count": 12,
      "outputs": []
    },
    {
      "cell_type": "code",
      "source": [
        "for cname in numeric_cnames:\n",
        "  mean = train_stats.loc[cname,'mean']\n",
        "  std = train_stats.loc[cname,'std']\n",
        "  df_train_norm.loc[:,cname] = (df_train_norm.loc[:,cname] - mean)/std\n",
        "  df_test_norm.loc[:,cname] = (df_test_norm.loc[:,cname]-mean)/std\n",
        "  "
      ],
      "metadata": {
        "id": "TelMx5FMQpsU"
      },
      "execution_count": 13,
      "outputs": []
    },
    {
      "cell_type": "code",
      "source": [
        "#df_train_norm.describe()"
      ],
      "metadata": {
        "colab": {
          "base_uri": "https://localhost:8080/",
          "height": 300
        },
        "id": "JL-h5AaSRQR4",
        "outputId": "39e6af80-11e7-48df-ee2a-8839cdf969f6"
      },
      "execution_count": 14,
      "outputs": [
        {
          "output_type": "execute_result",
          "data": {
            "text/plain": [
              "              MPG     Cylinders  Displacement    Horsepower        Weight  \\\n",
              "count  313.000000  3.130000e+02  3.130000e+02  3.130000e+02  3.130000e+02   \n",
              "mean    23.404153  7.306899e-17  1.276934e-16  3.050453e-17 -1.184711e-16   \n",
              "std      7.666909  1.000000e+00  1.000000e+00  1.000000e+00  1.000000e+00   \n",
              "min      9.000000 -1.412018e+00 -1.183463e+00 -1.501349e+00 -1.588728e+00   \n",
              "25%     17.500000 -8.243028e-01 -8.328438e-01 -7.365616e-01 -8.746125e-01   \n",
              "50%     23.000000 -8.243028e-01 -4.822252e-01 -2.882381e-01 -2.429856e-01   \n",
              "75%     29.000000  1.526556e+00  6.865038e-01  4.501771e-01  7.221310e-01   \n",
              "max     46.600000  1.526556e+00  2.585688e+00  3.351094e+00  2.567519e+00   \n",
              "\n",
              "       Accelaration  Model Year      Origin  \n",
              "count  3.130000e+02  313.000000  313.000000  \n",
              "mean   2.272233e-15   75.929712    1.591054  \n",
              "std    1.000000e+00    3.675305    0.807923  \n",
              "min   -2.643456e+00   70.000000    1.000000  \n",
              "25%   -6.254030e-01   73.000000    1.000000  \n",
              "50%   -7.502492e-02   76.000000    1.000000  \n",
              "75%    5.854288e-01   79.000000    2.000000  \n",
              "max    3.337319e+00   82.000000    3.000000  "
            ],
            "text/html": [
              "\n",
              "  <div id=\"df-3cb94c51-2266-4a27-b8e0-b1fde50e2601\">\n",
              "    <div class=\"colab-df-container\">\n",
              "      <div>\n",
              "<style scoped>\n",
              "    .dataframe tbody tr th:only-of-type {\n",
              "        vertical-align: middle;\n",
              "    }\n",
              "\n",
              "    .dataframe tbody tr th {\n",
              "        vertical-align: top;\n",
              "    }\n",
              "\n",
              "    .dataframe thead th {\n",
              "        text-align: right;\n",
              "    }\n",
              "</style>\n",
              "<table border=\"1\" class=\"dataframe\">\n",
              "  <thead>\n",
              "    <tr style=\"text-align: right;\">\n",
              "      <th></th>\n",
              "      <th>MPG</th>\n",
              "      <th>Cylinders</th>\n",
              "      <th>Displacement</th>\n",
              "      <th>Horsepower</th>\n",
              "      <th>Weight</th>\n",
              "      <th>Accelaration</th>\n",
              "      <th>Model Year</th>\n",
              "      <th>Origin</th>\n",
              "    </tr>\n",
              "  </thead>\n",
              "  <tbody>\n",
              "    <tr>\n",
              "      <th>count</th>\n",
              "      <td>313.000000</td>\n",
              "      <td>3.130000e+02</td>\n",
              "      <td>3.130000e+02</td>\n",
              "      <td>3.130000e+02</td>\n",
              "      <td>3.130000e+02</td>\n",
              "      <td>3.130000e+02</td>\n",
              "      <td>313.000000</td>\n",
              "      <td>313.000000</td>\n",
              "    </tr>\n",
              "    <tr>\n",
              "      <th>mean</th>\n",
              "      <td>23.404153</td>\n",
              "      <td>7.306899e-17</td>\n",
              "      <td>1.276934e-16</td>\n",
              "      <td>3.050453e-17</td>\n",
              "      <td>-1.184711e-16</td>\n",
              "      <td>2.272233e-15</td>\n",
              "      <td>75.929712</td>\n",
              "      <td>1.591054</td>\n",
              "    </tr>\n",
              "    <tr>\n",
              "      <th>std</th>\n",
              "      <td>7.666909</td>\n",
              "      <td>1.000000e+00</td>\n",
              "      <td>1.000000e+00</td>\n",
              "      <td>1.000000e+00</td>\n",
              "      <td>1.000000e+00</td>\n",
              "      <td>1.000000e+00</td>\n",
              "      <td>3.675305</td>\n",
              "      <td>0.807923</td>\n",
              "    </tr>\n",
              "    <tr>\n",
              "      <th>min</th>\n",
              "      <td>9.000000</td>\n",
              "      <td>-1.412018e+00</td>\n",
              "      <td>-1.183463e+00</td>\n",
              "      <td>-1.501349e+00</td>\n",
              "      <td>-1.588728e+00</td>\n",
              "      <td>-2.643456e+00</td>\n",
              "      <td>70.000000</td>\n",
              "      <td>1.000000</td>\n",
              "    </tr>\n",
              "    <tr>\n",
              "      <th>25%</th>\n",
              "      <td>17.500000</td>\n",
              "      <td>-8.243028e-01</td>\n",
              "      <td>-8.328438e-01</td>\n",
              "      <td>-7.365616e-01</td>\n",
              "      <td>-8.746125e-01</td>\n",
              "      <td>-6.254030e-01</td>\n",
              "      <td>73.000000</td>\n",
              "      <td>1.000000</td>\n",
              "    </tr>\n",
              "    <tr>\n",
              "      <th>50%</th>\n",
              "      <td>23.000000</td>\n",
              "      <td>-8.243028e-01</td>\n",
              "      <td>-4.822252e-01</td>\n",
              "      <td>-2.882381e-01</td>\n",
              "      <td>-2.429856e-01</td>\n",
              "      <td>-7.502492e-02</td>\n",
              "      <td>76.000000</td>\n",
              "      <td>1.000000</td>\n",
              "    </tr>\n",
              "    <tr>\n",
              "      <th>75%</th>\n",
              "      <td>29.000000</td>\n",
              "      <td>1.526556e+00</td>\n",
              "      <td>6.865038e-01</td>\n",
              "      <td>4.501771e-01</td>\n",
              "      <td>7.221310e-01</td>\n",
              "      <td>5.854288e-01</td>\n",
              "      <td>79.000000</td>\n",
              "      <td>2.000000</td>\n",
              "    </tr>\n",
              "    <tr>\n",
              "      <th>max</th>\n",
              "      <td>46.600000</td>\n",
              "      <td>1.526556e+00</td>\n",
              "      <td>2.585688e+00</td>\n",
              "      <td>3.351094e+00</td>\n",
              "      <td>2.567519e+00</td>\n",
              "      <td>3.337319e+00</td>\n",
              "      <td>82.000000</td>\n",
              "      <td>3.000000</td>\n",
              "    </tr>\n",
              "  </tbody>\n",
              "</table>\n",
              "</div>\n",
              "      <button class=\"colab-df-convert\" onclick=\"convertToInteractive('df-3cb94c51-2266-4a27-b8e0-b1fde50e2601')\"\n",
              "              title=\"Convert this dataframe to an interactive table.\"\n",
              "              style=\"display:none;\">\n",
              "        \n",
              "  <svg xmlns=\"http://www.w3.org/2000/svg\" height=\"24px\"viewBox=\"0 0 24 24\"\n",
              "       width=\"24px\">\n",
              "    <path d=\"M0 0h24v24H0V0z\" fill=\"none\"/>\n",
              "    <path d=\"M18.56 5.44l.94 2.06.94-2.06 2.06-.94-2.06-.94-.94-2.06-.94 2.06-2.06.94zm-11 1L8.5 8.5l.94-2.06 2.06-.94-2.06-.94L8.5 2.5l-.94 2.06-2.06.94zm10 10l.94 2.06.94-2.06 2.06-.94-2.06-.94-.94-2.06-.94 2.06-2.06.94z\"/><path d=\"M17.41 7.96l-1.37-1.37c-.4-.4-.92-.59-1.43-.59-.52 0-1.04.2-1.43.59L10.3 9.45l-7.72 7.72c-.78.78-.78 2.05 0 2.83L4 21.41c.39.39.9.59 1.41.59.51 0 1.02-.2 1.41-.59l7.78-7.78 2.81-2.81c.8-.78.8-2.07 0-2.86zM5.41 20L4 18.59l7.72-7.72 1.47 1.35L5.41 20z\"/>\n",
              "  </svg>\n",
              "      </button>\n",
              "      \n",
              "  <style>\n",
              "    .colab-df-container {\n",
              "      display:flex;\n",
              "      flex-wrap:wrap;\n",
              "      gap: 12px;\n",
              "    }\n",
              "\n",
              "    .colab-df-convert {\n",
              "      background-color: #E8F0FE;\n",
              "      border: none;\n",
              "      border-radius: 50%;\n",
              "      cursor: pointer;\n",
              "      display: none;\n",
              "      fill: #1967D2;\n",
              "      height: 32px;\n",
              "      padding: 0 0 0 0;\n",
              "      width: 32px;\n",
              "    }\n",
              "\n",
              "    .colab-df-convert:hover {\n",
              "      background-color: #E2EBFA;\n",
              "      box-shadow: 0px 1px 2px rgba(60, 64, 67, 0.3), 0px 1px 3px 1px rgba(60, 64, 67, 0.15);\n",
              "      fill: #174EA6;\n",
              "    }\n",
              "\n",
              "    [theme=dark] .colab-df-convert {\n",
              "      background-color: #3B4455;\n",
              "      fill: #D2E3FC;\n",
              "    }\n",
              "\n",
              "    [theme=dark] .colab-df-convert:hover {\n",
              "      background-color: #434B5C;\n",
              "      box-shadow: 0px 1px 3px 1px rgba(0, 0, 0, 0.15);\n",
              "      filter: drop-shadow(0px 1px 2px rgba(0, 0, 0, 0.3));\n",
              "      fill: #FFFFFF;\n",
              "    }\n",
              "  </style>\n",
              "\n",
              "      <script>\n",
              "        const buttonEl =\n",
              "          document.querySelector('#df-3cb94c51-2266-4a27-b8e0-b1fde50e2601 button.colab-df-convert');\n",
              "        buttonEl.style.display =\n",
              "          google.colab.kernel.accessAllowed ? 'block' : 'none';\n",
              "\n",
              "        async function convertToInteractive(key) {\n",
              "          const element = document.querySelector('#df-3cb94c51-2266-4a27-b8e0-b1fde50e2601');\n",
              "          const dataTable =\n",
              "            await google.colab.kernel.invokeFunction('convertToInteractive',\n",
              "                                                     [key], {});\n",
              "          if (!dataTable) return;\n",
              "\n",
              "          const docLinkHtml = 'Like what you see? Visit the ' +\n",
              "            '<a target=\"_blank\" href=https://colab.research.google.com/notebooks/data_table.ipynb>data table notebook</a>'\n",
              "            + ' to learn more about interactive tables.';\n",
              "          element.innerHTML = '';\n",
              "          dataTable['output_type'] = 'display_data';\n",
              "          await google.colab.output.renderOutput(dataTable, element);\n",
              "          const docLink = document.createElement('div');\n",
              "          docLink.innerHTML = docLinkHtml;\n",
              "          element.appendChild(docLink);\n",
              "        }\n",
              "      </script>\n",
              "    </div>\n",
              "  </div>\n",
              "  "
            ]
          },
          "metadata": {},
          "execution_count": 14
        }
      ]
    },
    {
      "cell_type": "code",
      "source": [
        "#to check normalization\n",
        "df_train_norm.tail()"
      ],
      "metadata": {
        "colab": {
          "base_uri": "https://localhost:8080/",
          "height": 206
        },
        "id": "zrI9u6FcRVaX",
        "outputId": "4ca5e0fb-5222-442d-ab3b-30055dbda91e"
      },
      "execution_count": 17,
      "outputs": [
        {
          "output_type": "execute_result",
          "data": {
            "text/plain": [
              "      MPG  Cylinders  Displacement  Horsepower    Weight  Accelaration  \\\n",
              "203  28.0  -0.824303     -0.901020   -0.736562 -0.950031      0.255202   \n",
              "255  19.4   0.351127      0.413800   -0.340982  0.293190      0.548737   \n",
              "72   13.0   1.526556      1.144256    0.713897  1.339617     -0.625403   \n",
              "235  30.5  -0.824303     -0.891280   -1.053025 -1.072585      0.475353   \n",
              "37   14.0   1.526556      1.563051    1.636916  1.470420     -1.359240   \n",
              "\n",
              "     Model Year  Origin  \n",
              "203          76       3  \n",
              "255          78       1  \n",
              "72           72       1  \n",
              "235          77       1  \n",
              "37           71       1  "
            ],
            "text/html": [
              "\n",
              "  <div id=\"df-2123c5fd-baa8-4926-97d6-f8a6da7a4340\">\n",
              "    <div class=\"colab-df-container\">\n",
              "      <div>\n",
              "<style scoped>\n",
              "    .dataframe tbody tr th:only-of-type {\n",
              "        vertical-align: middle;\n",
              "    }\n",
              "\n",
              "    .dataframe tbody tr th {\n",
              "        vertical-align: top;\n",
              "    }\n",
              "\n",
              "    .dataframe thead th {\n",
              "        text-align: right;\n",
              "    }\n",
              "</style>\n",
              "<table border=\"1\" class=\"dataframe\">\n",
              "  <thead>\n",
              "    <tr style=\"text-align: right;\">\n",
              "      <th></th>\n",
              "      <th>MPG</th>\n",
              "      <th>Cylinders</th>\n",
              "      <th>Displacement</th>\n",
              "      <th>Horsepower</th>\n",
              "      <th>Weight</th>\n",
              "      <th>Accelaration</th>\n",
              "      <th>Model Year</th>\n",
              "      <th>Origin</th>\n",
              "    </tr>\n",
              "  </thead>\n",
              "  <tbody>\n",
              "    <tr>\n",
              "      <th>203</th>\n",
              "      <td>28.0</td>\n",
              "      <td>-0.824303</td>\n",
              "      <td>-0.901020</td>\n",
              "      <td>-0.736562</td>\n",
              "      <td>-0.950031</td>\n",
              "      <td>0.255202</td>\n",
              "      <td>76</td>\n",
              "      <td>3</td>\n",
              "    </tr>\n",
              "    <tr>\n",
              "      <th>255</th>\n",
              "      <td>19.4</td>\n",
              "      <td>0.351127</td>\n",
              "      <td>0.413800</td>\n",
              "      <td>-0.340982</td>\n",
              "      <td>0.293190</td>\n",
              "      <td>0.548737</td>\n",
              "      <td>78</td>\n",
              "      <td>1</td>\n",
              "    </tr>\n",
              "    <tr>\n",
              "      <th>72</th>\n",
              "      <td>13.0</td>\n",
              "      <td>1.526556</td>\n",
              "      <td>1.144256</td>\n",
              "      <td>0.713897</td>\n",
              "      <td>1.339617</td>\n",
              "      <td>-0.625403</td>\n",
              "      <td>72</td>\n",
              "      <td>1</td>\n",
              "    </tr>\n",
              "    <tr>\n",
              "      <th>235</th>\n",
              "      <td>30.5</td>\n",
              "      <td>-0.824303</td>\n",
              "      <td>-0.891280</td>\n",
              "      <td>-1.053025</td>\n",
              "      <td>-1.072585</td>\n",
              "      <td>0.475353</td>\n",
              "      <td>77</td>\n",
              "      <td>1</td>\n",
              "    </tr>\n",
              "    <tr>\n",
              "      <th>37</th>\n",
              "      <td>14.0</td>\n",
              "      <td>1.526556</td>\n",
              "      <td>1.563051</td>\n",
              "      <td>1.636916</td>\n",
              "      <td>1.470420</td>\n",
              "      <td>-1.359240</td>\n",
              "      <td>71</td>\n",
              "      <td>1</td>\n",
              "    </tr>\n",
              "  </tbody>\n",
              "</table>\n",
              "</div>\n",
              "      <button class=\"colab-df-convert\" onclick=\"convertToInteractive('df-2123c5fd-baa8-4926-97d6-f8a6da7a4340')\"\n",
              "              title=\"Convert this dataframe to an interactive table.\"\n",
              "              style=\"display:none;\">\n",
              "        \n",
              "  <svg xmlns=\"http://www.w3.org/2000/svg\" height=\"24px\"viewBox=\"0 0 24 24\"\n",
              "       width=\"24px\">\n",
              "    <path d=\"M0 0h24v24H0V0z\" fill=\"none\"/>\n",
              "    <path d=\"M18.56 5.44l.94 2.06.94-2.06 2.06-.94-2.06-.94-.94-2.06-.94 2.06-2.06.94zm-11 1L8.5 8.5l.94-2.06 2.06-.94-2.06-.94L8.5 2.5l-.94 2.06-2.06.94zm10 10l.94 2.06.94-2.06 2.06-.94-2.06-.94-.94-2.06-.94 2.06-2.06.94z\"/><path d=\"M17.41 7.96l-1.37-1.37c-.4-.4-.92-.59-1.43-.59-.52 0-1.04.2-1.43.59L10.3 9.45l-7.72 7.72c-.78.78-.78 2.05 0 2.83L4 21.41c.39.39.9.59 1.41.59.51 0 1.02-.2 1.41-.59l7.78-7.78 2.81-2.81c.8-.78.8-2.07 0-2.86zM5.41 20L4 18.59l7.72-7.72 1.47 1.35L5.41 20z\"/>\n",
              "  </svg>\n",
              "      </button>\n",
              "      \n",
              "  <style>\n",
              "    .colab-df-container {\n",
              "      display:flex;\n",
              "      flex-wrap:wrap;\n",
              "      gap: 12px;\n",
              "    }\n",
              "\n",
              "    .colab-df-convert {\n",
              "      background-color: #E8F0FE;\n",
              "      border: none;\n",
              "      border-radius: 50%;\n",
              "      cursor: pointer;\n",
              "      display: none;\n",
              "      fill: #1967D2;\n",
              "      height: 32px;\n",
              "      padding: 0 0 0 0;\n",
              "      width: 32px;\n",
              "    }\n",
              "\n",
              "    .colab-df-convert:hover {\n",
              "      background-color: #E2EBFA;\n",
              "      box-shadow: 0px 1px 2px rgba(60, 64, 67, 0.3), 0px 1px 3px 1px rgba(60, 64, 67, 0.15);\n",
              "      fill: #174EA6;\n",
              "    }\n",
              "\n",
              "    [theme=dark] .colab-df-convert {\n",
              "      background-color: #3B4455;\n",
              "      fill: #D2E3FC;\n",
              "    }\n",
              "\n",
              "    [theme=dark] .colab-df-convert:hover {\n",
              "      background-color: #434B5C;\n",
              "      box-shadow: 0px 1px 3px 1px rgba(0, 0, 0, 0.15);\n",
              "      filter: drop-shadow(0px 1px 2px rgba(0, 0, 0, 0.3));\n",
              "      fill: #FFFFFF;\n",
              "    }\n",
              "  </style>\n",
              "\n",
              "      <script>\n",
              "        const buttonEl =\n",
              "          document.querySelector('#df-2123c5fd-baa8-4926-97d6-f8a6da7a4340 button.colab-df-convert');\n",
              "        buttonEl.style.display =\n",
              "          google.colab.kernel.accessAllowed ? 'block' : 'none';\n",
              "\n",
              "        async function convertToInteractive(key) {\n",
              "          const element = document.querySelector('#df-2123c5fd-baa8-4926-97d6-f8a6da7a4340');\n",
              "          const dataTable =\n",
              "            await google.colab.kernel.invokeFunction('convertToInteractive',\n",
              "                                                     [key], {});\n",
              "          if (!dataTable) return;\n",
              "\n",
              "          const docLinkHtml = 'Like what you see? Visit the ' +\n",
              "            '<a target=\"_blank\" href=https://colab.research.google.com/notebooks/data_table.ipynb>data table notebook</a>'\n",
              "            + ' to learn more about interactive tables.';\n",
              "          element.innerHTML = '';\n",
              "          dataTable['output_type'] = 'display_data';\n",
              "          await google.colab.output.renderOutput(dataTable, element);\n",
              "          const docLink = document.createElement('div');\n",
              "          docLink.innerHTML = docLinkHtml;\n",
              "          element.appendChild(docLink);\n",
              "        }\n",
              "      </script>\n",
              "    </div>\n",
              "  </div>\n",
              "  "
            ]
          },
          "metadata": {},
          "execution_count": 17
        }
      ]
    },
    {
      "cell_type": "code",
      "source": [
        "import torch\n",
        "boundaries = torch.tensor([73,76,79])\n",
        "v = torch.tensor(df_train_norm['Model Year'].values)\n",
        "df_train_norm['Model Year Bucketed'] = torch.bucketize(v,boundaries,right=True)\n",
        "v = torch.tensor(df_test_norm['Model Year'].values)\n",
        "df_test_norm['Model Year Bucketed'] = torch.bucketize(v,boundaries,right=True)"
      ],
      "metadata": {
        "id": "XFddJn9FRfow"
      },
      "execution_count": 19,
      "outputs": []
    },
    {
      "cell_type": "code",
      "source": [
        "numeric_cnames.append('Model Year Bucketed')"
      ],
      "metadata": {
        "id": "TpIvasaTTPQa"
      },
      "execution_count": 20,
      "outputs": []
    },
    {
      "cell_type": "code",
      "source": [
        "# preprocessing X input,test\n",
        "from torch.nn.functional import one_hot\n",
        "total_origin = len(set(df_train_norm['Origin'].values))\n",
        "\n",
        "origin_encoded = one_hot(torch.from_numpy(df_train_norm['Origin'].values)% total_origin)\n",
        "x_train_numeric = torch.tensor(df_train_norm[numeric_cnames].values)\n",
        "x_train = torch.cat([x_train_numeric,origin_encoded],1).float()\n",
        "\n",
        "origin_encoded = one_hot(torch.from_numpy(df_test_norm['Origin'].values)% total_origin)\n",
        "x_test_numeric = torch.tensor(df_test_norm[numeric_cnames].values)\n",
        "x_test = torch.cat([x_test_numeric,origin_encoded],1).float()\n"
      ],
      "metadata": {
        "id": "_sOjD2OVTfsv"
      },
      "execution_count": 28,
      "outputs": []
    },
    {
      "cell_type": "code",
      "source": [
        "# preprocessing Y train,test\n",
        "y_train = torch.tensor(df_train_norm['MPG'].values).float() ########### NEED TO CONVERT TO FLOAT!\n",
        "y_test = torch.tensor(df_test_norm['MPG'].values)         ################# NEED TO CONVERT TO FLOAT!"
      ],
      "metadata": {
        "id": "tvHOW2XfUN2t"
      },
      "execution_count": 65,
      "outputs": []
    },
    {
      "cell_type": "code",
      "source": [
        "# creating dataloader\n",
        "from torch.utils.data import TensorDataset\n",
        "from torch.utils.data import DataLoader\n",
        "train_ds = TensorDataset(x_train,y_train)\n",
        "batch_size = 8\n",
        "torch.manual_seed(1)\n",
        "train_dl = DataLoader(train_ds,batch_size,shuffle = True)\n"
      ],
      "metadata": {
        "id": "x_ApMefcaDPb"
      },
      "execution_count": 66,
      "outputs": []
    },
    {
      "cell_type": "code",
      "source": [
        "# building the model using sequential\n",
        "import torch.nn as nn\n",
        "hidden_units = [8,4]\n",
        "input_size = x_train.shape[1]\n",
        "all_layers = []\n",
        "for hidden_unit in hidden_units:\n",
        "  layer = nn.Linear(input_size,hidden_unit)\n",
        "  all_layers.append(layer)\n",
        "  all_layers.append(nn.ReLU())\n",
        "  input_size = hidden_unit\n",
        "layer = nn.Linear(hidden_units[-1],1)\n",
        "all_layers.append(layer)\n",
        "model = nn.Sequential(*all_layers)\n",
        "model"
      ],
      "metadata": {
        "colab": {
          "base_uri": "https://localhost:8080/"
        },
        "id": "5CNaBZYUagec",
        "outputId": "50954b75-0028-4ef4-a726-eb60b7ca1358"
      },
      "execution_count": 67,
      "outputs": [
        {
          "output_type": "execute_result",
          "data": {
            "text/plain": [
              "Sequential(\n",
              "  (0): Linear(in_features=9, out_features=8, bias=True)\n",
              "  (1): ReLU()\n",
              "  (2): Linear(in_features=8, out_features=4, bias=True)\n",
              "  (3): ReLU()\n",
              "  (4): Linear(in_features=4, out_features=1, bias=True)\n",
              ")"
            ]
          },
          "metadata": {},
          "execution_count": 67
        }
      ]
    },
    {
      "cell_type": "code",
      "source": [
        "# defining the loss and optimizer\n",
        "loss_fn  = nn.MSELoss()\n",
        "optimizer = torch.optim.SGD(model.parameters(),lr = 0.001)\n",
        "torch.manual_seed(1)\n",
        "num_epochs = 200\n",
        "log_epochs = 20\n"
      ],
      "metadata": {
        "id": "mf3RQ1d7chaI"
      },
      "execution_count": 71,
      "outputs": []
    },
    {
      "cell_type": "code",
      "source": [
        "# training the model and printing loss values after every 20 epochs\n",
        "for epoch in range(num_epochs):\n",
        "  for x_batch,y_batch in train_dl:\n",
        "    pred = model(x_batch)[:,0].float()\n",
        "    loss = loss_fn(pred,y_batch).float()\n",
        "    loss.backward()\n",
        "    optimizer.step()\n",
        "    optimizer.zero_grad()\n",
        "  if(epoch % log_epochs ==0):\n",
        "    print(f'Epoch {epoch} Loss : {loss.item():.4f} ')\n"
      ],
      "metadata": {
        "colab": {
          "base_uri": "https://localhost:8080/"
        },
        "id": "4VRQzcYEd-HA",
        "outputId": "76cbc21e-9e97-418f-bfe0-da3af1ed992f"
      },
      "execution_count": 72,
      "outputs": [
        {
          "output_type": "stream",
          "name": "stdout",
          "text": [
            "Epoch 0 Loss : 0.2462 \n",
            "Epoch 20 Loss : 0.2773 \n",
            "Epoch 40 Loss : 5.1781 \n",
            "Epoch 60 Loss : 0.2258 \n",
            "Epoch 80 Loss : 0.0145 \n",
            "Epoch 100 Loss : 6.6759 \n",
            "Epoch 120 Loss : 5.1065 \n",
            "Epoch 140 Loss : 14.8403 \n",
            "Epoch 160 Loss : 2.8786 \n",
            "Epoch 180 Loss : 0.7531 \n"
          ]
        }
      ]
    },
    {
      "cell_type": "code",
      "source": [
        "# predictions using trained model\n",
        "with torch.no_grad():\n",
        "  pred = model(x_test.float())[:,0]\n",
        "  loss = loss_fn(pred,y_test)\n",
        "  print(f' MSE loss : {loss.item():.4f}' )\n",
        "  "
      ],
      "metadata": {
        "colab": {
          "base_uri": "https://localhost:8080/"
        },
        "id": "xFCHnCGigAjs",
        "outputId": "c4ca1327-399c-4ed1-d0a0-5c565ac41e8c"
      },
      "execution_count": 73,
      "outputs": [
        {
          "output_type": "stream",
          "name": "stdout",
          "text": [
            " MSE loss : 9.6009\n"
          ]
        }
      ]
    },
    {
      "cell_type": "code",
      "source": [
        "# saving and loading the model parameters:\n",
        "#   path = 'mpg.pt'\n",
        "#   torch.save(model.state_dict(),path)\n",
        "#   to load model first create architecture of model\n",
        "#   then : model_new.load_state_dict(torch.load(path))\n",
        "\n",
        "\n",
        "# saving the whole model and parameters:\n",
        "path = 'mpg.pt'\n",
        "torch.save(model,path)"
      ],
      "metadata": {
        "id": "yMwlZclUxSsw"
      },
      "execution_count": 74,
      "outputs": []
    },
    {
      "cell_type": "code",
      "source": [
        "model_new = torch.load(path)\n",
        "model_new.eval()"
      ],
      "metadata": {
        "colab": {
          "base_uri": "https://localhost:8080/"
        },
        "id": "X5Y7Q6MLyVfN",
        "outputId": "a3d99523-d246-4da9-e50d-d26e96190cf5"
      },
      "execution_count": 75,
      "outputs": [
        {
          "output_type": "execute_result",
          "data": {
            "text/plain": [
              "Sequential(\n",
              "  (0): Linear(in_features=9, out_features=8, bias=True)\n",
              "  (1): ReLU()\n",
              "  (2): Linear(in_features=8, out_features=4, bias=True)\n",
              "  (3): ReLU()\n",
              "  (4): Linear(in_features=4, out_features=1, bias=True)\n",
              ")"
            ]
          },
          "metadata": {},
          "execution_count": 75
        }
      ]
    },
    {
      "cell_type": "code",
      "source": [
        ""
      ],
      "metadata": {
        "id": "Hmy489Yqya4W"
      },
      "execution_count": 78,
      "outputs": []
    },
    {
      "cell_type": "code",
      "source": [
        ""
      ],
      "metadata": {
        "id": "CblhXABFzHi0"
      },
      "execution_count": 78,
      "outputs": []
    },
    {
      "cell_type": "code",
      "source": [
        "\n"
      ],
      "metadata": {
        "id": "-AOBicVqzOFz"
      },
      "execution_count": 78,
      "outputs": []
    },
    {
      "cell_type": "code",
      "source": [
        ""
      ],
      "metadata": {
        "id": "ajzrYPexzPFy"
      },
      "execution_count": null,
      "outputs": []
    }
  ]
}